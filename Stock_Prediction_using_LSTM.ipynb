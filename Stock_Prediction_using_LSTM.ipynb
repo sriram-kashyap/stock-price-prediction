{
  "nbformat": 4,
  "nbformat_minor": 0,
  "metadata": {
    "colab": {
      "name": "Stock Prediction using LSTM",
      "provenance": [],
      "collapsed_sections": []
    },
    "kernelspec": {
      "name": "python3",
      "display_name": "Python 3"
    },
    "language_info": {
      "name": "python"
    }
  },
  "cells": [
    {
      "cell_type": "code",
      "execution_count": null,
      "metadata": {
        "colab": {
          "base_uri": "https://localhost:8080/",
          "height": 206
        },
        "id": "xe2Esr0ChVFY",
        "outputId": "c39ce761-86c4-4471-9c25-6ed9824b5b7f"
      },
      "outputs": [
        {
          "output_type": "execute_result",
          "data": {
            "text/plain": [
              "         Date        Open        High         Low       Close   Adj Close  \\\n",
              "0  2013-01-02  357.385559  361.151062  355.959839  359.288177  359.288177   \n",
              "1  2013-01-03  360.122742  363.600128  358.031342  359.496826  359.496826   \n",
              "2  2013-01-04  362.313507  368.339294  361.488861  366.600616  366.600616   \n",
              "3  2013-01-07  365.348755  367.301056  362.929504  365.001007  365.001007   \n",
              "4  2013-01-08  365.393463  365.771027  359.874359  364.280701  364.280701   \n",
              "\n",
              "    Volume  \n",
              "0  5115500  \n",
              "1  4666500  \n",
              "2  5562800  \n",
              "3  3332900  \n",
              "4  3373900  "
            ],
            "text/html": [
              "\n",
              "  <div id=\"df-a5e5c587-268b-46ad-9c0d-2d1f17480eac\">\n",
              "    <div class=\"colab-df-container\">\n",
              "      <div>\n",
              "<style scoped>\n",
              "    .dataframe tbody tr th:only-of-type {\n",
              "        vertical-align: middle;\n",
              "    }\n",
              "\n",
              "    .dataframe tbody tr th {\n",
              "        vertical-align: top;\n",
              "    }\n",
              "\n",
              "    .dataframe thead th {\n",
              "        text-align: right;\n",
              "    }\n",
              "</style>\n",
              "<table border=\"1\" class=\"dataframe\">\n",
              "  <thead>\n",
              "    <tr style=\"text-align: right;\">\n",
              "      <th></th>\n",
              "      <th>Date</th>\n",
              "      <th>Open</th>\n",
              "      <th>High</th>\n",
              "      <th>Low</th>\n",
              "      <th>Close</th>\n",
              "      <th>Adj Close</th>\n",
              "      <th>Volume</th>\n",
              "    </tr>\n",
              "  </thead>\n",
              "  <tbody>\n",
              "    <tr>\n",
              "      <th>0</th>\n",
              "      <td>2013-01-02</td>\n",
              "      <td>357.385559</td>\n",
              "      <td>361.151062</td>\n",
              "      <td>355.959839</td>\n",
              "      <td>359.288177</td>\n",
              "      <td>359.288177</td>\n",
              "      <td>5115500</td>\n",
              "    </tr>\n",
              "    <tr>\n",
              "      <th>1</th>\n",
              "      <td>2013-01-03</td>\n",
              "      <td>360.122742</td>\n",
              "      <td>363.600128</td>\n",
              "      <td>358.031342</td>\n",
              "      <td>359.496826</td>\n",
              "      <td>359.496826</td>\n",
              "      <td>4666500</td>\n",
              "    </tr>\n",
              "    <tr>\n",
              "      <th>2</th>\n",
              "      <td>2013-01-04</td>\n",
              "      <td>362.313507</td>\n",
              "      <td>368.339294</td>\n",
              "      <td>361.488861</td>\n",
              "      <td>366.600616</td>\n",
              "      <td>366.600616</td>\n",
              "      <td>5562800</td>\n",
              "    </tr>\n",
              "    <tr>\n",
              "      <th>3</th>\n",
              "      <td>2013-01-07</td>\n",
              "      <td>365.348755</td>\n",
              "      <td>367.301056</td>\n",
              "      <td>362.929504</td>\n",
              "      <td>365.001007</td>\n",
              "      <td>365.001007</td>\n",
              "      <td>3332900</td>\n",
              "    </tr>\n",
              "    <tr>\n",
              "      <th>4</th>\n",
              "      <td>2013-01-08</td>\n",
              "      <td>365.393463</td>\n",
              "      <td>365.771027</td>\n",
              "      <td>359.874359</td>\n",
              "      <td>364.280701</td>\n",
              "      <td>364.280701</td>\n",
              "      <td>3373900</td>\n",
              "    </tr>\n",
              "  </tbody>\n",
              "</table>\n",
              "</div>\n",
              "      <button class=\"colab-df-convert\" onclick=\"convertToInteractive('df-a5e5c587-268b-46ad-9c0d-2d1f17480eac')\"\n",
              "              title=\"Convert this dataframe to an interactive table.\"\n",
              "              style=\"display:none;\">\n",
              "        \n",
              "  <svg xmlns=\"http://www.w3.org/2000/svg\" height=\"24px\"viewBox=\"0 0 24 24\"\n",
              "       width=\"24px\">\n",
              "    <path d=\"M0 0h24v24H0V0z\" fill=\"none\"/>\n",
              "    <path d=\"M18.56 5.44l.94 2.06.94-2.06 2.06-.94-2.06-.94-.94-2.06-.94 2.06-2.06.94zm-11 1L8.5 8.5l.94-2.06 2.06-.94-2.06-.94L8.5 2.5l-.94 2.06-2.06.94zm10 10l.94 2.06.94-2.06 2.06-.94-2.06-.94-.94-2.06-.94 2.06-2.06.94z\"/><path d=\"M17.41 7.96l-1.37-1.37c-.4-.4-.92-.59-1.43-.59-.52 0-1.04.2-1.43.59L10.3 9.45l-7.72 7.72c-.78.78-.78 2.05 0 2.83L4 21.41c.39.39.9.59 1.41.59.51 0 1.02-.2 1.41-.59l7.78-7.78 2.81-2.81c.8-.78.8-2.07 0-2.86zM5.41 20L4 18.59l7.72-7.72 1.47 1.35L5.41 20z\"/>\n",
              "  </svg>\n",
              "      </button>\n",
              "      \n",
              "  <style>\n",
              "    .colab-df-container {\n",
              "      display:flex;\n",
              "      flex-wrap:wrap;\n",
              "      gap: 12px;\n",
              "    }\n",
              "\n",
              "    .colab-df-convert {\n",
              "      background-color: #E8F0FE;\n",
              "      border: none;\n",
              "      border-radius: 50%;\n",
              "      cursor: pointer;\n",
              "      display: none;\n",
              "      fill: #1967D2;\n",
              "      height: 32px;\n",
              "      padding: 0 0 0 0;\n",
              "      width: 32px;\n",
              "    }\n",
              "\n",
              "    .colab-df-convert:hover {\n",
              "      background-color: #E2EBFA;\n",
              "      box-shadow: 0px 1px 2px rgba(60, 64, 67, 0.3), 0px 1px 3px 1px rgba(60, 64, 67, 0.15);\n",
              "      fill: #174EA6;\n",
              "    }\n",
              "\n",
              "    [theme=dark] .colab-df-convert {\n",
              "      background-color: #3B4455;\n",
              "      fill: #D2E3FC;\n",
              "    }\n",
              "\n",
              "    [theme=dark] .colab-df-convert:hover {\n",
              "      background-color: #434B5C;\n",
              "      box-shadow: 0px 1px 3px 1px rgba(0, 0, 0, 0.15);\n",
              "      filter: drop-shadow(0px 1px 2px rgba(0, 0, 0, 0.3));\n",
              "      fill: #FFFFFF;\n",
              "    }\n",
              "  </style>\n",
              "\n",
              "      <script>\n",
              "        const buttonEl =\n",
              "          document.querySelector('#df-a5e5c587-268b-46ad-9c0d-2d1f17480eac button.colab-df-convert');\n",
              "        buttonEl.style.display =\n",
              "          google.colab.kernel.accessAllowed ? 'block' : 'none';\n",
              "\n",
              "        async function convertToInteractive(key) {\n",
              "          const element = document.querySelector('#df-a5e5c587-268b-46ad-9c0d-2d1f17480eac');\n",
              "          const dataTable =\n",
              "            await google.colab.kernel.invokeFunction('convertToInteractive',\n",
              "                                                     [key], {});\n",
              "          if (!dataTable) return;\n",
              "\n",
              "          const docLinkHtml = 'Like what you see? Visit the ' +\n",
              "            '<a target=\"_blank\" href=https://colab.research.google.com/notebooks/data_table.ipynb>data table notebook</a>'\n",
              "            + ' to learn more about interactive tables.';\n",
              "          element.innerHTML = '';\n",
              "          dataTable['output_type'] = 'display_data';\n",
              "          await google.colab.output.renderOutput(dataTable, element);\n",
              "          const docLink = document.createElement('div');\n",
              "          docLink.innerHTML = docLinkHtml;\n",
              "          element.appendChild(docLink);\n",
              "        }\n",
              "      </script>\n",
              "    </div>\n",
              "  </div>\n",
              "  "
            ]
          },
          "metadata": {},
          "execution_count": 98
        }
      ],
      "source": [
        "import pandas as pd\n",
        "\n",
        "trainset = pd.read_csv(\"trainset.csv\")\n",
        "\n",
        "trainset.head()"
      ]
    },
    {
      "cell_type": "code",
      "source": [
        "from sklearn.preprocessing import MinMaxScaler\n",
        "sc = MinMaxScaler(feature_range = (0,1))\n",
        "train = trainset.drop(\"Date\", axis=1)\n",
        "col = train.columns\n",
        "train_scale = sc.fit_transform(train)\n",
        "train_scale = pd.DataFrame(train_scale, columns=col)\n",
        "train_scale"
      ],
      "metadata": {
        "colab": {
          "base_uri": "https://localhost:8080/",
          "height": 424
        },
        "id": "mJN9JL3ipcWu",
        "outputId": "9b431303-3da8-4042-96c0-e519ec85fa83"
      },
      "execution_count": null,
      "outputs": [
        {
          "output_type": "execute_result",
          "data": {
            "text/plain": [
              "          Open      High       Low     Close  Adj Close    Volume\n",
              "0     0.010111  0.014778  0.014549  0.013907   0.013907  0.219444\n",
              "1     0.013886  0.018142  0.017434  0.014194   0.014194  0.200153\n",
              "2     0.016907  0.024651  0.022250  0.023952   0.023952  0.238662\n",
              "3     0.021093  0.023225  0.024256  0.021755   0.021755  0.142856\n",
              "4     0.021155  0.021123  0.020001  0.020765   0.020765  0.144617\n",
              "...        ...       ...       ...       ...        ...       ...\n",
              "1254  0.980569  0.980373  0.994276  0.976620   0.976620  0.032103\n",
              "1255  0.976377  0.974770  0.981408  0.971977   0.971977  0.032339\n",
              "1256  0.975440  0.972366  0.978413  0.961853   0.961853  0.054307\n",
              "1257  0.967455  0.967395  0.973845  0.960164   0.960164  0.035626\n",
              "1258  0.960725  0.960459  0.974026  0.957773   0.957773  0.037791\n",
              "\n",
              "[1259 rows x 6 columns]"
            ],
            "text/html": [
              "\n",
              "  <div id=\"df-659d5fc5-3795-41a5-b57c-c50162bf8af9\">\n",
              "    <div class=\"colab-df-container\">\n",
              "      <div>\n",
              "<style scoped>\n",
              "    .dataframe tbody tr th:only-of-type {\n",
              "        vertical-align: middle;\n",
              "    }\n",
              "\n",
              "    .dataframe tbody tr th {\n",
              "        vertical-align: top;\n",
              "    }\n",
              "\n",
              "    .dataframe thead th {\n",
              "        text-align: right;\n",
              "    }\n",
              "</style>\n",
              "<table border=\"1\" class=\"dataframe\">\n",
              "  <thead>\n",
              "    <tr style=\"text-align: right;\">\n",
              "      <th></th>\n",
              "      <th>Open</th>\n",
              "      <th>High</th>\n",
              "      <th>Low</th>\n",
              "      <th>Close</th>\n",
              "      <th>Adj Close</th>\n",
              "      <th>Volume</th>\n",
              "    </tr>\n",
              "  </thead>\n",
              "  <tbody>\n",
              "    <tr>\n",
              "      <th>0</th>\n",
              "      <td>0.010111</td>\n",
              "      <td>0.014778</td>\n",
              "      <td>0.014549</td>\n",
              "      <td>0.013907</td>\n",
              "      <td>0.013907</td>\n",
              "      <td>0.219444</td>\n",
              "    </tr>\n",
              "    <tr>\n",
              "      <th>1</th>\n",
              "      <td>0.013886</td>\n",
              "      <td>0.018142</td>\n",
              "      <td>0.017434</td>\n",
              "      <td>0.014194</td>\n",
              "      <td>0.014194</td>\n",
              "      <td>0.200153</td>\n",
              "    </tr>\n",
              "    <tr>\n",
              "      <th>2</th>\n",
              "      <td>0.016907</td>\n",
              "      <td>0.024651</td>\n",
              "      <td>0.022250</td>\n",
              "      <td>0.023952</td>\n",
              "      <td>0.023952</td>\n",
              "      <td>0.238662</td>\n",
              "    </tr>\n",
              "    <tr>\n",
              "      <th>3</th>\n",
              "      <td>0.021093</td>\n",
              "      <td>0.023225</td>\n",
              "      <td>0.024256</td>\n",
              "      <td>0.021755</td>\n",
              "      <td>0.021755</td>\n",
              "      <td>0.142856</td>\n",
              "    </tr>\n",
              "    <tr>\n",
              "      <th>4</th>\n",
              "      <td>0.021155</td>\n",
              "      <td>0.021123</td>\n",
              "      <td>0.020001</td>\n",
              "      <td>0.020765</td>\n",
              "      <td>0.020765</td>\n",
              "      <td>0.144617</td>\n",
              "    </tr>\n",
              "    <tr>\n",
              "      <th>...</th>\n",
              "      <td>...</td>\n",
              "      <td>...</td>\n",
              "      <td>...</td>\n",
              "      <td>...</td>\n",
              "      <td>...</td>\n",
              "      <td>...</td>\n",
              "    </tr>\n",
              "    <tr>\n",
              "      <th>1254</th>\n",
              "      <td>0.980569</td>\n",
              "      <td>0.980373</td>\n",
              "      <td>0.994276</td>\n",
              "      <td>0.976620</td>\n",
              "      <td>0.976620</td>\n",
              "      <td>0.032103</td>\n",
              "    </tr>\n",
              "    <tr>\n",
              "      <th>1255</th>\n",
              "      <td>0.976377</td>\n",
              "      <td>0.974770</td>\n",
              "      <td>0.981408</td>\n",
              "      <td>0.971977</td>\n",
              "      <td>0.971977</td>\n",
              "      <td>0.032339</td>\n",
              "    </tr>\n",
              "    <tr>\n",
              "      <th>1256</th>\n",
              "      <td>0.975440</td>\n",
              "      <td>0.972366</td>\n",
              "      <td>0.978413</td>\n",
              "      <td>0.961853</td>\n",
              "      <td>0.961853</td>\n",
              "      <td>0.054307</td>\n",
              "    </tr>\n",
              "    <tr>\n",
              "      <th>1257</th>\n",
              "      <td>0.967455</td>\n",
              "      <td>0.967395</td>\n",
              "      <td>0.973845</td>\n",
              "      <td>0.960164</td>\n",
              "      <td>0.960164</td>\n",
              "      <td>0.035626</td>\n",
              "    </tr>\n",
              "    <tr>\n",
              "      <th>1258</th>\n",
              "      <td>0.960725</td>\n",
              "      <td>0.960459</td>\n",
              "      <td>0.974026</td>\n",
              "      <td>0.957773</td>\n",
              "      <td>0.957773</td>\n",
              "      <td>0.037791</td>\n",
              "    </tr>\n",
              "  </tbody>\n",
              "</table>\n",
              "<p>1259 rows × 6 columns</p>\n",
              "</div>\n",
              "      <button class=\"colab-df-convert\" onclick=\"convertToInteractive('df-659d5fc5-3795-41a5-b57c-c50162bf8af9')\"\n",
              "              title=\"Convert this dataframe to an interactive table.\"\n",
              "              style=\"display:none;\">\n",
              "        \n",
              "  <svg xmlns=\"http://www.w3.org/2000/svg\" height=\"24px\"viewBox=\"0 0 24 24\"\n",
              "       width=\"24px\">\n",
              "    <path d=\"M0 0h24v24H0V0z\" fill=\"none\"/>\n",
              "    <path d=\"M18.56 5.44l.94 2.06.94-2.06 2.06-.94-2.06-.94-.94-2.06-.94 2.06-2.06.94zm-11 1L8.5 8.5l.94-2.06 2.06-.94-2.06-.94L8.5 2.5l-.94 2.06-2.06.94zm10 10l.94 2.06.94-2.06 2.06-.94-2.06-.94-.94-2.06-.94 2.06-2.06.94z\"/><path d=\"M17.41 7.96l-1.37-1.37c-.4-.4-.92-.59-1.43-.59-.52 0-1.04.2-1.43.59L10.3 9.45l-7.72 7.72c-.78.78-.78 2.05 0 2.83L4 21.41c.39.39.9.59 1.41.59.51 0 1.02-.2 1.41-.59l7.78-7.78 2.81-2.81c.8-.78.8-2.07 0-2.86zM5.41 20L4 18.59l7.72-7.72 1.47 1.35L5.41 20z\"/>\n",
              "  </svg>\n",
              "      </button>\n",
              "      \n",
              "  <style>\n",
              "    .colab-df-container {\n",
              "      display:flex;\n",
              "      flex-wrap:wrap;\n",
              "      gap: 12px;\n",
              "    }\n",
              "\n",
              "    .colab-df-convert {\n",
              "      background-color: #E8F0FE;\n",
              "      border: none;\n",
              "      border-radius: 50%;\n",
              "      cursor: pointer;\n",
              "      display: none;\n",
              "      fill: #1967D2;\n",
              "      height: 32px;\n",
              "      padding: 0 0 0 0;\n",
              "      width: 32px;\n",
              "    }\n",
              "\n",
              "    .colab-df-convert:hover {\n",
              "      background-color: #E2EBFA;\n",
              "      box-shadow: 0px 1px 2px rgba(60, 64, 67, 0.3), 0px 1px 3px 1px rgba(60, 64, 67, 0.15);\n",
              "      fill: #174EA6;\n",
              "    }\n",
              "\n",
              "    [theme=dark] .colab-df-convert {\n",
              "      background-color: #3B4455;\n",
              "      fill: #D2E3FC;\n",
              "    }\n",
              "\n",
              "    [theme=dark] .colab-df-convert:hover {\n",
              "      background-color: #434B5C;\n",
              "      box-shadow: 0px 1px 3px 1px rgba(0, 0, 0, 0.15);\n",
              "      filter: drop-shadow(0px 1px 2px rgba(0, 0, 0, 0.3));\n",
              "      fill: #FFFFFF;\n",
              "    }\n",
              "  </style>\n",
              "\n",
              "      <script>\n",
              "        const buttonEl =\n",
              "          document.querySelector('#df-659d5fc5-3795-41a5-b57c-c50162bf8af9 button.colab-df-convert');\n",
              "        buttonEl.style.display =\n",
              "          google.colab.kernel.accessAllowed ? 'block' : 'none';\n",
              "\n",
              "        async function convertToInteractive(key) {\n",
              "          const element = document.querySelector('#df-659d5fc5-3795-41a5-b57c-c50162bf8af9');\n",
              "          const dataTable =\n",
              "            await google.colab.kernel.invokeFunction('convertToInteractive',\n",
              "                                                     [key], {});\n",
              "          if (!dataTable) return;\n",
              "\n",
              "          const docLinkHtml = 'Like what you see? Visit the ' +\n",
              "            '<a target=\"_blank\" href=https://colab.research.google.com/notebooks/data_table.ipynb>data table notebook</a>'\n",
              "            + ' to learn more about interactive tables.';\n",
              "          element.innerHTML = '';\n",
              "          dataTable['output_type'] = 'display_data';\n",
              "          await google.colab.output.renderOutput(dataTable, element);\n",
              "          const docLink = document.createElement('div');\n",
              "          docLink.innerHTML = docLinkHtml;\n",
              "          element.appendChild(docLink);\n",
              "        }\n",
              "      </script>\n",
              "    </div>\n",
              "  </div>\n",
              "  "
            ]
          },
          "metadata": {},
          "execution_count": 99
        }
      ]
    },
    {
      "cell_type": "code",
      "source": [
        "x_train = []\n",
        "y_train = []"
      ],
      "metadata": {
        "id": "HKOZ9Du6pi42"
      },
      "execution_count": null,
      "outputs": []
    },
    {
      "cell_type": "code",
      "source": [
        "import numpy as np"
      ],
      "metadata": {
        "id": "lsPqcuJ1tX9J"
      },
      "execution_count": null,
      "outputs": []
    },
    {
      "cell_type": "code",
      "source": [
        "for i in range(60,1259):\n",
        "    x_train.append(train_scale.iloc[i-60:i,:].values)\n",
        "    y_train.append(train_scale.iloc[i,0])\n",
        "#x_train,y_train = np.array(x_train),np.array(y_train)"
      ],
      "metadata": {
        "id": "NbOKjVpZtLvT"
      },
      "execution_count": null,
      "outputs": []
    },
    {
      "cell_type": "code",
      "source": [
        "x_train, y_train = np.array(x_train), np.array(y_train)"
      ],
      "metadata": {
        "id": "rkSDAuU0xYQE"
      },
      "execution_count": null,
      "outputs": []
    },
    {
      "cell_type": "code",
      "source": [
        "x_train.shape"
      ],
      "metadata": {
        "colab": {
          "base_uri": "https://localhost:8080/"
        },
        "id": "C6bo5tupySIN",
        "outputId": "1c943593-75a8-441c-ad87-4e46c46c7240"
      },
      "execution_count": null,
      "outputs": [
        {
          "output_type": "execute_result",
          "data": {
            "text/plain": [
              "(1199, 60, 6)"
            ]
          },
          "metadata": {},
          "execution_count": 104
        }
      ]
    },
    {
      "cell_type": "code",
      "source": [
        "from keras.models import Sequential\n",
        "from keras.layers import Dense\n",
        "from keras.layers import LSTM\n",
        "from keras.layers import Dropout"
      ],
      "metadata": {
        "id": "qZYwfhBrycji"
      },
      "execution_count": null,
      "outputs": []
    },
    {
      "cell_type": "code",
      "source": [
        "regressor = Sequential()\n",
        "regressor.add(LSTM(units = 50,return_sequences = True,input_shape = (x_train.shape[1],6)))"
      ],
      "metadata": {
        "id": "ZX26PX_wyn0s"
      },
      "execution_count": null,
      "outputs": []
    },
    {
      "cell_type": "code",
      "source": [
        "regressor.add(Dropout(0.2))\n",
        "regressor.add(LSTM(units = 50,return_sequences = True))\n",
        "regressor.add(Dropout(0.2))\n",
        "regressor.add(LSTM(units = 50,return_sequences = True))\n",
        "regressor.add(Dropout(0.2))\n",
        "regressor.add(LSTM(units = 50))\n",
        "regressor.add(Dropout(0.2))\n",
        "regressor.add(Dense(units = 1))\n",
        "regressor.compile(optimizer = 'adam',loss = 'mean_squared_error')"
      ],
      "metadata": {
        "id": "Wap9EN2gy2tU"
      },
      "execution_count": null,
      "outputs": []
    },
    {
      "cell_type": "code",
      "source": [
        "regressor.fit(x_train,y_train,epochs = 100, batch_size = 32)"
      ],
      "metadata": {
        "colab": {
          "base_uri": "https://localhost:8080/"
        },
        "id": "RIRjgotRy_Wq",
        "outputId": "25ca8bc7-82ed-41cb-b2ec-646dbff4628c"
      },
      "execution_count": null,
      "outputs": [
        {
          "output_type": "stream",
          "name": "stdout",
          "text": [
            "Epoch 1/100\n",
            "38/38 [==============================] - 14s 135ms/step - loss: 0.0246\n",
            "Epoch 2/100\n",
            "38/38 [==============================] - 5s 128ms/step - loss: 0.0049\n",
            "Epoch 3/100\n",
            "38/38 [==============================] - 5s 128ms/step - loss: 0.0040\n",
            "Epoch 4/100\n",
            "38/38 [==============================] - 5s 127ms/step - loss: 0.0040\n",
            "Epoch 5/100\n",
            "38/38 [==============================] - 5s 126ms/step - loss: 0.0035\n",
            "Epoch 6/100\n",
            "38/38 [==============================] - 5s 130ms/step - loss: 0.0041\n",
            "Epoch 7/100\n",
            "38/38 [==============================] - 5s 131ms/step - loss: 0.0031\n",
            "Epoch 8/100\n",
            "38/38 [==============================] - 5s 128ms/step - loss: 0.0040\n",
            "Epoch 9/100\n",
            "38/38 [==============================] - 5s 125ms/step - loss: 0.0031\n",
            "Epoch 10/100\n",
            "38/38 [==============================] - 5s 125ms/step - loss: 0.0028\n",
            "Epoch 11/100\n",
            "38/38 [==============================] - 5s 130ms/step - loss: 0.0035\n",
            "Epoch 12/100\n",
            "38/38 [==============================] - 5s 127ms/step - loss: 0.0031\n",
            "Epoch 13/100\n",
            "38/38 [==============================] - 5s 126ms/step - loss: 0.0027\n",
            "Epoch 14/100\n",
            "38/38 [==============================] - 5s 132ms/step - loss: 0.0029\n",
            "Epoch 15/100\n",
            "38/38 [==============================] - 5s 131ms/step - loss: 0.0027\n",
            "Epoch 16/100\n",
            "38/38 [==============================] - 5s 127ms/step - loss: 0.0029\n",
            "Epoch 17/100\n",
            "38/38 [==============================] - 5s 127ms/step - loss: 0.0023\n",
            "Epoch 18/100\n",
            "38/38 [==============================] - 5s 126ms/step - loss: 0.0026\n",
            "Epoch 19/100\n",
            "38/38 [==============================] - 5s 130ms/step - loss: 0.0030\n",
            "Epoch 20/100\n",
            "38/38 [==============================] - 5s 129ms/step - loss: 0.0023\n",
            "Epoch 21/100\n",
            "38/38 [==============================] - 5s 133ms/step - loss: 0.0027\n",
            "Epoch 22/100\n",
            "38/38 [==============================] - 5s 129ms/step - loss: 0.0024\n",
            "Epoch 23/100\n",
            "38/38 [==============================] - 5s 129ms/step - loss: 0.0021\n",
            "Epoch 24/100\n",
            "38/38 [==============================] - 5s 128ms/step - loss: 0.0022\n",
            "Epoch 25/100\n",
            "38/38 [==============================] - 5s 126ms/step - loss: 0.0028\n",
            "Epoch 26/100\n",
            "38/38 [==============================] - 5s 138ms/step - loss: 0.0022\n",
            "Epoch 27/100\n",
            "38/38 [==============================] - 6s 149ms/step - loss: 0.0020\n",
            "Epoch 28/100\n",
            "38/38 [==============================] - 5s 127ms/step - loss: 0.0022\n",
            "Epoch 29/100\n",
            "38/38 [==============================] - 5s 128ms/step - loss: 0.0021\n",
            "Epoch 30/100\n",
            "38/38 [==============================] - 5s 128ms/step - loss: 0.0019\n",
            "Epoch 31/100\n",
            "38/38 [==============================] - 5s 127ms/step - loss: 0.0020\n",
            "Epoch 32/100\n",
            "38/38 [==============================] - 5s 128ms/step - loss: 0.0020\n",
            "Epoch 33/100\n",
            "38/38 [==============================] - 5s 128ms/step - loss: 0.0018\n",
            "Epoch 34/100\n",
            "38/38 [==============================] - 5s 127ms/step - loss: 0.0017\n",
            "Epoch 35/100\n",
            "38/38 [==============================] - 5s 127ms/step - loss: 0.0022\n",
            "Epoch 36/100\n",
            "38/38 [==============================] - 5s 133ms/step - loss: 0.0020\n",
            "Epoch 37/100\n",
            "38/38 [==============================] - 6s 163ms/step - loss: 0.0018\n",
            "Epoch 38/100\n",
            "38/38 [==============================] - 5s 128ms/step - loss: 0.0019\n",
            "Epoch 39/100\n",
            "38/38 [==============================] - 5s 129ms/step - loss: 0.0017\n",
            "Epoch 40/100\n",
            "38/38 [==============================] - 5s 127ms/step - loss: 0.0019\n",
            "Epoch 41/100\n",
            "38/38 [==============================] - 5s 131ms/step - loss: 0.0017\n",
            "Epoch 42/100\n",
            "38/38 [==============================] - 5s 125ms/step - loss: 0.0018\n",
            "Epoch 43/100\n",
            "38/38 [==============================] - 5s 126ms/step - loss: 0.0018\n",
            "Epoch 44/100\n",
            "38/38 [==============================] - 5s 131ms/step - loss: 0.0019\n",
            "Epoch 45/100\n",
            "38/38 [==============================] - 5s 128ms/step - loss: 0.0017\n",
            "Epoch 46/100\n",
            "38/38 [==============================] - 5s 139ms/step - loss: 0.0017\n",
            "Epoch 47/100\n",
            "38/38 [==============================] - 5s 126ms/step - loss: 0.0015\n",
            "Epoch 48/100\n",
            "38/38 [==============================] - 5s 131ms/step - loss: 0.0016\n",
            "Epoch 49/100\n",
            "38/38 [==============================] - 5s 127ms/step - loss: 0.0019\n",
            "Epoch 50/100\n",
            "38/38 [==============================] - 5s 130ms/step - loss: 0.0016\n",
            "Epoch 51/100\n",
            "38/38 [==============================] - 5s 135ms/step - loss: 0.0015\n",
            "Epoch 52/100\n",
            "38/38 [==============================] - 5s 126ms/step - loss: 0.0015\n",
            "Epoch 53/100\n",
            "38/38 [==============================] - 5s 130ms/step - loss: 0.0013\n",
            "Epoch 54/100\n",
            "38/38 [==============================] - 6s 154ms/step - loss: 0.0014\n",
            "Epoch 55/100\n",
            "38/38 [==============================] - 5s 132ms/step - loss: 0.0015\n",
            "Epoch 56/100\n",
            "38/38 [==============================] - 5s 128ms/step - loss: 0.0015\n",
            "Epoch 57/100\n",
            "38/38 [==============================] - 5s 129ms/step - loss: 0.0015\n",
            "Epoch 58/100\n",
            "38/38 [==============================] - 5s 128ms/step - loss: 0.0019\n",
            "Epoch 59/100\n",
            "38/38 [==============================] - 5s 128ms/step - loss: 0.0015\n",
            "Epoch 60/100\n",
            "38/38 [==============================] - 5s 127ms/step - loss: 0.0013\n",
            "Epoch 61/100\n",
            "38/38 [==============================] - 5s 127ms/step - loss: 0.0012\n",
            "Epoch 62/100\n",
            "38/38 [==============================] - 5s 132ms/step - loss: 0.0015\n",
            "Epoch 63/100\n",
            "38/38 [==============================] - 5s 129ms/step - loss: 0.0013\n",
            "Epoch 64/100\n",
            "38/38 [==============================] - 5s 129ms/step - loss: 0.0013\n",
            "Epoch 65/100\n",
            "38/38 [==============================] - 5s 128ms/step - loss: 0.0012\n",
            "Epoch 66/100\n",
            "38/38 [==============================] - 5s 129ms/step - loss: 0.0012\n",
            "Epoch 67/100\n",
            "38/38 [==============================] - 5s 126ms/step - loss: 0.0011\n",
            "Epoch 68/100\n",
            "38/38 [==============================] - 5s 131ms/step - loss: 0.0011\n",
            "Epoch 69/100\n",
            "38/38 [==============================] - 5s 131ms/step - loss: 0.0013\n",
            "Epoch 70/100\n",
            "38/38 [==============================] - 5s 128ms/step - loss: 0.0012\n",
            "Epoch 71/100\n",
            "38/38 [==============================] - 5s 129ms/step - loss: 0.0012\n",
            "Epoch 72/100\n",
            "38/38 [==============================] - 5s 132ms/step - loss: 0.0011\n",
            "Epoch 73/100\n",
            "38/38 [==============================] - 5s 126ms/step - loss: 0.0011\n",
            "Epoch 74/100\n",
            "38/38 [==============================] - 5s 131ms/step - loss: 0.0012\n",
            "Epoch 75/100\n",
            "38/38 [==============================] - 5s 132ms/step - loss: 0.0011\n",
            "Epoch 76/100\n",
            "38/38 [==============================] - 5s 126ms/step - loss: 0.0011\n",
            "Epoch 77/100\n",
            "38/38 [==============================] - 5s 131ms/step - loss: 0.0011\n",
            "Epoch 78/100\n",
            "38/38 [==============================] - 5s 130ms/step - loss: 0.0012\n",
            "Epoch 79/100\n",
            "38/38 [==============================] - 5s 128ms/step - loss: 0.0012\n",
            "Epoch 80/100\n",
            "38/38 [==============================] - 5s 131ms/step - loss: 9.8216e-04\n",
            "Epoch 81/100\n",
            "38/38 [==============================] - 5s 130ms/step - loss: 9.0881e-04\n",
            "Epoch 82/100\n",
            "38/38 [==============================] - 6s 156ms/step - loss: 9.7358e-04\n",
            "Epoch 83/100\n",
            "38/38 [==============================] - 5s 129ms/step - loss: 0.0010\n",
            "Epoch 84/100\n",
            "38/38 [==============================] - 5s 126ms/step - loss: 9.3172e-04\n",
            "Epoch 85/100\n",
            "38/38 [==============================] - 5s 129ms/step - loss: 9.0670e-04\n",
            "Epoch 86/100\n",
            "38/38 [==============================] - 5s 126ms/step - loss: 0.0010\n",
            "Epoch 87/100\n",
            "38/38 [==============================] - 5s 128ms/step - loss: 9.5405e-04\n",
            "Epoch 88/100\n",
            "38/38 [==============================] - 5s 129ms/step - loss: 8.9126e-04\n",
            "Epoch 89/100\n",
            "38/38 [==============================] - 5s 129ms/step - loss: 9.3885e-04\n",
            "Epoch 90/100\n",
            "38/38 [==============================] - 5s 129ms/step - loss: 0.0011\n",
            "Epoch 91/100\n",
            "38/38 [==============================] - 5s 130ms/step - loss: 0.0011\n",
            "Epoch 92/100\n",
            "38/38 [==============================] - 5s 128ms/step - loss: 9.6214e-04\n",
            "Epoch 93/100\n",
            "38/38 [==============================] - 5s 126ms/step - loss: 8.3152e-04\n",
            "Epoch 94/100\n",
            "38/38 [==============================] - 5s 126ms/step - loss: 9.9515e-04\n",
            "Epoch 95/100\n",
            "38/38 [==============================] - 5s 131ms/step - loss: 9.7398e-04\n",
            "Epoch 96/100\n",
            "38/38 [==============================] - 5s 129ms/step - loss: 8.4464e-04\n",
            "Epoch 97/100\n",
            "38/38 [==============================] - 5s 130ms/step - loss: 8.5473e-04\n",
            "Epoch 98/100\n",
            "38/38 [==============================] - 5s 129ms/step - loss: 8.1495e-04\n",
            "Epoch 99/100\n",
            "38/38 [==============================] - 5s 129ms/step - loss: 9.0680e-04\n",
            "Epoch 100/100\n",
            "38/38 [==============================] - 5s 129ms/step - loss: 9.8806e-04\n"
          ]
        },
        {
          "output_type": "execute_result",
          "data": {
            "text/plain": [
              "<keras.callbacks.History at 0x7f08ce7feb50>"
            ]
          },
          "metadata": {},
          "execution_count": 108
        }
      ]
    },
    {
      "cell_type": "code",
      "source": [
        "dataset_test =pd.read_csv(\"testset.csv\")"
      ],
      "metadata": {
        "id": "wRgCNMqP1Fap"
      },
      "execution_count": null,
      "outputs": []
    },
    {
      "cell_type": "code",
      "source": [
        "test = dataset_test.drop(\"Date\", axis=1)\n",
        "col = test.columns\n",
        "test_scale = sc.fit_transform(test)\n",
        "test_scale = pd.DataFrame(test_scale, columns=col)\n",
        "test_scale"
      ],
      "metadata": {
        "id": "T5ShvNUQ2COA",
        "colab": {
          "base_uri": "https://localhost:8080/",
          "height": 424
        },
        "outputId": "72f32e10-e75d-4b84-c2d3-33a4421def3f"
      },
      "execution_count": null,
      "outputs": [
        {
          "output_type": "execute_result",
          "data": {
            "text/plain": [
              "         Open      High       Low     Close  Adj Close    Volume\n",
              "0    0.298662  0.276974  0.337567  0.364158   0.364158  0.117237\n",
              "1    0.385494  0.393611  0.431535  0.464433   0.464433  0.164200\n",
              "2    0.514300  0.437492  0.540200  0.486921   0.486921  0.060423\n",
              "3    0.546923  0.501869  0.582001  0.577731   0.577731  0.127356\n",
              "4    0.591670  0.544183  0.632278  0.604750   0.604750  0.070908\n",
              "..        ...       ...       ...       ...        ...       ...\n",
              "120  0.816605  0.740928  0.690603  0.707263   0.707263  0.341494\n",
              "121  0.731786  0.676431  0.710876  0.670835   0.670835  0.196630\n",
              "122  0.695574  0.668150  0.642730  0.587770   0.587770  0.130965\n",
              "123  0.590909  0.610730  0.602958  0.646512   0.646512  0.076955\n",
              "124  0.688289  0.646396  0.702206  0.654716   0.654716  0.136134\n",
              "\n",
              "[125 rows x 6 columns]"
            ],
            "text/html": [
              "\n",
              "  <div id=\"df-9be56698-9e69-4ad3-b098-48c482089f68\">\n",
              "    <div class=\"colab-df-container\">\n",
              "      <div>\n",
              "<style scoped>\n",
              "    .dataframe tbody tr th:only-of-type {\n",
              "        vertical-align: middle;\n",
              "    }\n",
              "\n",
              "    .dataframe tbody tr th {\n",
              "        vertical-align: top;\n",
              "    }\n",
              "\n",
              "    .dataframe thead th {\n",
              "        text-align: right;\n",
              "    }\n",
              "</style>\n",
              "<table border=\"1\" class=\"dataframe\">\n",
              "  <thead>\n",
              "    <tr style=\"text-align: right;\">\n",
              "      <th></th>\n",
              "      <th>Open</th>\n",
              "      <th>High</th>\n",
              "      <th>Low</th>\n",
              "      <th>Close</th>\n",
              "      <th>Adj Close</th>\n",
              "      <th>Volume</th>\n",
              "    </tr>\n",
              "  </thead>\n",
              "  <tbody>\n",
              "    <tr>\n",
              "      <th>0</th>\n",
              "      <td>0.298662</td>\n",
              "      <td>0.276974</td>\n",
              "      <td>0.337567</td>\n",
              "      <td>0.364158</td>\n",
              "      <td>0.364158</td>\n",
              "      <td>0.117237</td>\n",
              "    </tr>\n",
              "    <tr>\n",
              "      <th>1</th>\n",
              "      <td>0.385494</td>\n",
              "      <td>0.393611</td>\n",
              "      <td>0.431535</td>\n",
              "      <td>0.464433</td>\n",
              "      <td>0.464433</td>\n",
              "      <td>0.164200</td>\n",
              "    </tr>\n",
              "    <tr>\n",
              "      <th>2</th>\n",
              "      <td>0.514300</td>\n",
              "      <td>0.437492</td>\n",
              "      <td>0.540200</td>\n",
              "      <td>0.486921</td>\n",
              "      <td>0.486921</td>\n",
              "      <td>0.060423</td>\n",
              "    </tr>\n",
              "    <tr>\n",
              "      <th>3</th>\n",
              "      <td>0.546923</td>\n",
              "      <td>0.501869</td>\n",
              "      <td>0.582001</td>\n",
              "      <td>0.577731</td>\n",
              "      <td>0.577731</td>\n",
              "      <td>0.127356</td>\n",
              "    </tr>\n",
              "    <tr>\n",
              "      <th>4</th>\n",
              "      <td>0.591670</td>\n",
              "      <td>0.544183</td>\n",
              "      <td>0.632278</td>\n",
              "      <td>0.604750</td>\n",
              "      <td>0.604750</td>\n",
              "      <td>0.070908</td>\n",
              "    </tr>\n",
              "    <tr>\n",
              "      <th>...</th>\n",
              "      <td>...</td>\n",
              "      <td>...</td>\n",
              "      <td>...</td>\n",
              "      <td>...</td>\n",
              "      <td>...</td>\n",
              "      <td>...</td>\n",
              "    </tr>\n",
              "    <tr>\n",
              "      <th>120</th>\n",
              "      <td>0.816605</td>\n",
              "      <td>0.740928</td>\n",
              "      <td>0.690603</td>\n",
              "      <td>0.707263</td>\n",
              "      <td>0.707263</td>\n",
              "      <td>0.341494</td>\n",
              "    </tr>\n",
              "    <tr>\n",
              "      <th>121</th>\n",
              "      <td>0.731786</td>\n",
              "      <td>0.676431</td>\n",
              "      <td>0.710876</td>\n",
              "      <td>0.670835</td>\n",
              "      <td>0.670835</td>\n",
              "      <td>0.196630</td>\n",
              "    </tr>\n",
              "    <tr>\n",
              "      <th>122</th>\n",
              "      <td>0.695574</td>\n",
              "      <td>0.668150</td>\n",
              "      <td>0.642730</td>\n",
              "      <td>0.587770</td>\n",
              "      <td>0.587770</td>\n",
              "      <td>0.130965</td>\n",
              "    </tr>\n",
              "    <tr>\n",
              "      <th>123</th>\n",
              "      <td>0.590909</td>\n",
              "      <td>0.610730</td>\n",
              "      <td>0.602958</td>\n",
              "      <td>0.646512</td>\n",
              "      <td>0.646512</td>\n",
              "      <td>0.076955</td>\n",
              "    </tr>\n",
              "    <tr>\n",
              "      <th>124</th>\n",
              "      <td>0.688289</td>\n",
              "      <td>0.646396</td>\n",
              "      <td>0.702206</td>\n",
              "      <td>0.654716</td>\n",
              "      <td>0.654716</td>\n",
              "      <td>0.136134</td>\n",
              "    </tr>\n",
              "  </tbody>\n",
              "</table>\n",
              "<p>125 rows × 6 columns</p>\n",
              "</div>\n",
              "      <button class=\"colab-df-convert\" onclick=\"convertToInteractive('df-9be56698-9e69-4ad3-b098-48c482089f68')\"\n",
              "              title=\"Convert this dataframe to an interactive table.\"\n",
              "              style=\"display:none;\">\n",
              "        \n",
              "  <svg xmlns=\"http://www.w3.org/2000/svg\" height=\"24px\"viewBox=\"0 0 24 24\"\n",
              "       width=\"24px\">\n",
              "    <path d=\"M0 0h24v24H0V0z\" fill=\"none\"/>\n",
              "    <path d=\"M18.56 5.44l.94 2.06.94-2.06 2.06-.94-2.06-.94-.94-2.06-.94 2.06-2.06.94zm-11 1L8.5 8.5l.94-2.06 2.06-.94-2.06-.94L8.5 2.5l-.94 2.06-2.06.94zm10 10l.94 2.06.94-2.06 2.06-.94-2.06-.94-.94-2.06-.94 2.06-2.06.94z\"/><path d=\"M17.41 7.96l-1.37-1.37c-.4-.4-.92-.59-1.43-.59-.52 0-1.04.2-1.43.59L10.3 9.45l-7.72 7.72c-.78.78-.78 2.05 0 2.83L4 21.41c.39.39.9.59 1.41.59.51 0 1.02-.2 1.41-.59l7.78-7.78 2.81-2.81c.8-.78.8-2.07 0-2.86zM5.41 20L4 18.59l7.72-7.72 1.47 1.35L5.41 20z\"/>\n",
              "  </svg>\n",
              "      </button>\n",
              "      \n",
              "  <style>\n",
              "    .colab-df-container {\n",
              "      display:flex;\n",
              "      flex-wrap:wrap;\n",
              "      gap: 12px;\n",
              "    }\n",
              "\n",
              "    .colab-df-convert {\n",
              "      background-color: #E8F0FE;\n",
              "      border: none;\n",
              "      border-radius: 50%;\n",
              "      cursor: pointer;\n",
              "      display: none;\n",
              "      fill: #1967D2;\n",
              "      height: 32px;\n",
              "      padding: 0 0 0 0;\n",
              "      width: 32px;\n",
              "    }\n",
              "\n",
              "    .colab-df-convert:hover {\n",
              "      background-color: #E2EBFA;\n",
              "      box-shadow: 0px 1px 2px rgba(60, 64, 67, 0.3), 0px 1px 3px 1px rgba(60, 64, 67, 0.15);\n",
              "      fill: #174EA6;\n",
              "    }\n",
              "\n",
              "    [theme=dark] .colab-df-convert {\n",
              "      background-color: #3B4455;\n",
              "      fill: #D2E3FC;\n",
              "    }\n",
              "\n",
              "    [theme=dark] .colab-df-convert:hover {\n",
              "      background-color: #434B5C;\n",
              "      box-shadow: 0px 1px 3px 1px rgba(0, 0, 0, 0.15);\n",
              "      filter: drop-shadow(0px 1px 2px rgba(0, 0, 0, 0.3));\n",
              "      fill: #FFFFFF;\n",
              "    }\n",
              "  </style>\n",
              "\n",
              "      <script>\n",
              "        const buttonEl =\n",
              "          document.querySelector('#df-9be56698-9e69-4ad3-b098-48c482089f68 button.colab-df-convert');\n",
              "        buttonEl.style.display =\n",
              "          google.colab.kernel.accessAllowed ? 'block' : 'none';\n",
              "\n",
              "        async function convertToInteractive(key) {\n",
              "          const element = document.querySelector('#df-9be56698-9e69-4ad3-b098-48c482089f68');\n",
              "          const dataTable =\n",
              "            await google.colab.kernel.invokeFunction('convertToInteractive',\n",
              "                                                     [key], {});\n",
              "          if (!dataTable) return;\n",
              "\n",
              "          const docLinkHtml = 'Like what you see? Visit the ' +\n",
              "            '<a target=\"_blank\" href=https://colab.research.google.com/notebooks/data_table.ipynb>data table notebook</a>'\n",
              "            + ' to learn more about interactive tables.';\n",
              "          element.innerHTML = '';\n",
              "          dataTable['output_type'] = 'display_data';\n",
              "          await google.colab.output.renderOutput(dataTable, element);\n",
              "          const docLink = document.createElement('div');\n",
              "          docLink.innerHTML = docLinkHtml;\n",
              "          element.appendChild(docLink);\n",
              "        }\n",
              "      </script>\n",
              "    </div>\n",
              "  </div>\n",
              "  "
            ]
          },
          "metadata": {},
          "execution_count": 147
        }
      ]
    },
    {
      "cell_type": "code",
      "source": [
        "x_test=[]\n",
        "for i in range(60,124):\n",
        "    x_test.append(test_scale.iloc[i-60:i,:].values)"
      ],
      "metadata": {
        "id": "7yFBYyeX3tJf"
      },
      "execution_count": null,
      "outputs": []
    },
    {
      "cell_type": "code",
      "source": [
        "x_test = np.array(x_test)"
      ],
      "metadata": {
        "id": "fBSnhlds4CP1"
      },
      "execution_count": null,
      "outputs": []
    },
    {
      "cell_type": "code",
      "source": [
        "x_test.shape"
      ],
      "metadata": {
        "colab": {
          "base_uri": "https://localhost:8080/"
        },
        "id": "vq9QgDAj4Xcl",
        "outputId": "e6411133-1ed2-4098-f9e5-44d9251997d4"
      },
      "execution_count": null,
      "outputs": [
        {
          "output_type": "execute_result",
          "data": {
            "text/plain": [
              "(64, 60, 6)"
            ]
          },
          "metadata": {},
          "execution_count": 187
        }
      ]
    },
    {
      "cell_type": "code",
      "source": [
        "predicted_price = regressor.predict(x_test)\n",
        "predicted_price.shape"
      ],
      "metadata": {
        "colab": {
          "base_uri": "https://localhost:8080/"
        },
        "id": "4B6CUEqf4GU1",
        "outputId": "101c8614-d273-4b1b-8bad-d0ec09bfca2e"
      },
      "execution_count": null,
      "outputs": [
        {
          "output_type": "execute_result",
          "data": {
            "text/plain": [
              "(64, 1)"
            ]
          },
          "metadata": {},
          "execution_count": 188
        }
      ]
    },
    {
      "cell_type": "code",
      "source": [
        "predicted_price"
      ],
      "metadata": {
        "colab": {
          "base_uri": "https://localhost:8080/"
        },
        "id": "5jnPqhPj-Dsy",
        "outputId": "58d95465-a430-4592-ef04-bbf912829210"
      },
      "execution_count": null,
      "outputs": [
        {
          "output_type": "execute_result",
          "data": {
            "text/plain": [
              "array([[0.23420703],\n",
              "       [0.19362944],\n",
              "       [0.17203921],\n",
              "       [0.16140592],\n",
              "       [0.16106376],\n",
              "       [0.17527285],\n",
              "       [0.18004593],\n",
              "       [0.17348489],\n",
              "       [0.17066541],\n",
              "       [0.1673399 ],\n",
              "       [0.16881117],\n",
              "       [0.17462622],\n",
              "       [0.18632448],\n",
              "       [0.23802027],\n",
              "       [0.31310877],\n",
              "       [0.38780862],\n",
              "       [0.42585343],\n",
              "       [0.42189693],\n",
              "       [0.35738996],\n",
              "       [0.2617712 ],\n",
              "       [0.18162328],\n",
              "       [0.14094242],\n",
              "       [0.12998345],\n",
              "       [0.14168458],\n",
              "       [0.16304693],\n",
              "       [0.17807406],\n",
              "       [0.1991212 ],\n",
              "       [0.23962596],\n",
              "       [0.2845698 ],\n",
              "       [0.3427575 ],\n",
              "       [0.41643628],\n",
              "       [0.4774761 ],\n",
              "       [0.5140398 ],\n",
              "       [0.50040853],\n",
              "       [0.464475  ],\n",
              "       [0.43030643],\n",
              "       [0.39827806],\n",
              "       [0.3885346 ],\n",
              "       [0.39386648],\n",
              "       [0.40736327],\n",
              "       [0.42375547],\n",
              "       [0.43711245],\n",
              "       [0.4280104 ],\n",
              "       [0.40682694],\n",
              "       [0.40957397],\n",
              "       [0.4729553 ],\n",
              "       [0.5784807 ],\n",
              "       [0.6643522 ],\n",
              "       [0.6991445 ],\n",
              "       [0.68621993],\n",
              "       [0.6564237 ],\n",
              "       [0.6446755 ],\n",
              "       [0.66675794],\n",
              "       [0.70103526],\n",
              "       [0.74376297],\n",
              "       [0.77852106],\n",
              "       [0.8126279 ],\n",
              "       [0.8372897 ],\n",
              "       [0.85906553],\n",
              "       [0.85761964],\n",
              "       [0.8459003 ],\n",
              "       [0.8045758 ],\n",
              "       [0.7564678 ],\n",
              "       [0.708495  ]], dtype=float32)"
            ]
          },
          "metadata": {},
          "execution_count": 189
        }
      ]
    },
    {
      "cell_type": "code",
      "source": [
        "from sklearn.preprocessing import MinMaxScaler\n",
        "test_col = np.array(test['Open']).reshape(-1,1)\n",
        "#Training different scaler so that it accepts only one column, which is Open\n",
        "scale = MinMaxScaler(feature_range = (0,1))\n",
        "scale.fit(test_col)"
      ],
      "metadata": {
        "colab": {
          "base_uri": "https://localhost:8080/"
        },
        "id": "yJnLwuMD-JdV",
        "outputId": "ea553804-6cc6-46a0-a47a-562a418ce024"
      },
      "execution_count": null,
      "outputs": [
        {
          "output_type": "execute_result",
          "data": {
            "text/plain": [
              "MinMaxScaler()"
            ]
          },
          "metadata": {},
          "execution_count": 190
        }
      ]
    },
    {
      "cell_type": "code",
      "source": [
        "#Using newly trained scaler to inverse transform prediction\n",
        "predicted_price = scale.inverse_transform(predicted_price)\n",
        "predicted_price.shape"
      ],
      "metadata": {
        "colab": {
          "base_uri": "https://localhost:8080/"
        },
        "id": "ekW8H_ET5gZd",
        "outputId": "984601a4-d471-4dd1-98a5-5aff3a424e3a"
      },
      "execution_count": null,
      "outputs": [
        {
          "output_type": "execute_result",
          "data": {
            "text/plain": [
              "(64, 1)"
            ]
          },
          "metadata": {},
          "execution_count": 191
        }
      ]
    },
    {
      "cell_type": "code",
      "source": [
        "import matplotlib.pyplot as plt"
      ],
      "metadata": {
        "id": "mNOMDd7-_i04"
      },
      "execution_count": null,
      "outputs": []
    },
    {
      "cell_type": "code",
      "source": [
        "real_stock_price = dataset_test.iloc[60:124,1:2].values\n",
        "real_stock_price.shape"
      ],
      "metadata": {
        "colab": {
          "base_uri": "https://localhost:8080/"
        },
        "id": "3EC20jZbAHrB",
        "outputId": "2d6fdc5b-05dd-4d36-e983-89aff35945df"
      },
      "execution_count": null,
      "outputs": [
        {
          "output_type": "execute_result",
          "data": {
            "text/plain": [
              "(64, 1)"
            ]
          },
          "metadata": {},
          "execution_count": 196
        }
      ]
    },
    {
      "cell_type": "code",
      "source": [
        "plt.plot(real_stock_price,color = 'red', label = 'Real Price')\n",
        "plt.plot(predicted_price, color = 'blue', label = 'Predicted Price')\n",
        "plt.title('Google Stock Price Prediction')\n",
        "plt.xlabel('Time')\n",
        "plt.ylabel('Google Stock Price')\n",
        "plt.legend()\n",
        "plt.show()"
      ],
      "metadata": {
        "colab": {
          "base_uri": "https://localhost:8080/",
          "height": 295
        },
        "id": "a4UDNBRP99Zy",
        "outputId": "89d0291b-103d-4cf9-e657-9944a3186789"
      },
      "execution_count": null,
      "outputs": [
        {
          "output_type": "display_data",
          "data": {
            "text/plain": [
              "<Figure size 432x288 with 1 Axes>"
            ],
            "image/png": "[encoded data removed]"
          },
          "metadata": {
            "needs_background": "light"
          }
        }
      ]
    },
    {
      "cell_type": "code",
      "source": [
        ""
      ],
      "metadata": {
        "id": "RCbeKWqK_mq4"
      },
      "execution_count": null,
      "outputs": []
    }
  ]
}